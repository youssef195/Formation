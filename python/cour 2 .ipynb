{
 "cells": [
  {
   "cell_type": "markdown",
   "metadata": {},
   "source": [
    "# Cours 14 avril 2022 - Numpy et Pandas"
   ]
  },
  {
   "cell_type": "markdown",
   "metadata": {},
   "source": [
    "Les structures de donnée de base en Python (les listes par exemple) ne sont pas toujours particulièrement adaptées à l'analyse de données. De nombreuses librairies externes ont donc été créées pour faciliter les opérations classiques et permettre d'être plus efficace en codant en Python. \n",
    "\n",
    "Dans ce cours, nous nous intéresserons à: \n",
    "\n",
    "- Numpy (https://numpy.org/): Librairie implémentant de nombreux concepts et fonctions mathématiques. \n",
    "\n",
    "- Pandas (https://pandas.pydata.org/): Librairie de manipulation de données tabulaire.\n",
    "\n",
    "<b> Objectifs du cours: </b>\n",
    "\n",
    "- Apprendre à importer et à travailler avec une librairie externe, en l'intégrant dans les fonctionnalités de Python de base \n",
    "    vues à la dernière séance\n",
    "- Faire des calculs mathématiques facilement avec numpy.\n",
    "- Manipuler des données à partir d'un fichier externe"
   ]
  },
  {
   "cell_type": "markdown",
   "metadata": {},
   "source": [
    "## Librairies externes"
   ]
  },
  {
   "cell_type": "markdown",
   "metadata": {},
   "source": [
    "Une librairie est simplement une collection \"d'objets\" et de fonctions déja écrites par quelqu'un d'autre que nous pouvons réutiliser dans notre code. De nombreuses librairies externes sont présentes dans \"anaconda\", la distribution de Python que nous avons installé --> https://docs.anaconda.com/anaconda/packages/py3.9_win-64/. \n",
    "\n",
    "Pour importer une librairie et pouvoir l'utiliser dans notre code, nous devons d'abord l'importer avec le mot clé <b>import</b>. Cette"
   ]
  },
  {
   "cell_type": "code",
   "execution_count": null,
   "metadata": {},
   "outputs": [],
   "source": [
    "# Une fois cette cellule exécutée, nous pouvons utiliser toutes les fonctionnalitées implémentées dans la librairie\n",
    "import numpy"
   ]
  },
  {
   "cell_type": "code",
   "execution_count": null,
   "metadata": {},
   "outputs": [],
   "source": [
    "print(numpy.random.rand(2))"
   ]
  },
  {
   "cell_type": "markdown",
   "metadata": {},
   "source": [
    "Importer une librairie revient à copier coller tout le code qu'elle contient. \n",
    "Si nous n'avons besoin qu'une petite partie de la librairie (une fonction particulière par exemple), nous pouvons juste l'importer en indiquant où elle se trouve (cf la documentation de chacune d'elles) avec la syntaxe suivante:"
   ]
  },
  {
   "cell_type": "code",
   "execution_count": null,
   "metadata": {},
   "outputs": [],
   "source": [
    "# J'importe uniquement la fonction rand() de numpy, se trouvant dans le \"dossier\" \"random\" de numpy\n",
    "from numpy.random import rand"
   ]
  },
  {
   "cell_type": "code",
   "execution_count": null,
   "metadata": {},
   "outputs": [],
   "source": [
    "# Comme on a importé directement la fonction, on a pas besoin de préciser son emplacement\n",
    "print(rand(3))"
   ]
  },
  {
   "cell_type": "markdown",
   "metadata": {},
   "source": [
    "Comme nous utiliserons très souvent cette librairie dans la suite, on peut lui donner un alias pour reduire la taille de notre code: "
   ]
  },
  {
   "cell_type": "code",
   "execution_count": null,
   "metadata": {},
   "outputs": [],
   "source": [
    "# Je renomme la librairie numpy comme \"np\"\n",
    "import numpy as np"
   ]
  },
  {
   "cell_type": "code",
   "execution_count": null,
   "metadata": {},
   "outputs": [],
   "source": [
    "print(np.random.randn(5))"
   ]
  },
  {
   "cell_type": "markdown",
   "metadata": {},
   "source": [
    "## Numpy"
   ]
  },
  {
   "cell_type": "markdown",
   "metadata": {},
   "source": [
    "Numpy est une librairie très populaire car elle implémente le concept \"d'array\", équivalent à des vecteurs/matrices. \n",
    "Cette librairie est donc particulièrement adaptée quand on souhaite faire des calculs sur des données numériques.\n"
   ]
  },
  {
   "cell_type": "code",
   "execution_count": null,
   "metadata": {},
   "outputs": [],
   "source": [
    "import numpy as np"
   ]
  },
  {
   "cell_type": "code",
   "execution_count": null,
   "metadata": {},
   "outputs": [],
   "source": [
    "my_array = np.array([1, 2, 3])\n",
    "\n",
    "print(my_array)\n",
    "print(type(my_array))"
   ]
  },
  {
   "cell_type": "markdown",
   "metadata": {},
   "source": [
    "La taille d'un array peut être trouvée avec \"l'attribut\" <b>shape</b>.\n",
    "<b> Attention: </b> ce n'est pas une fonction, il n'y a pas de parenthèses"
   ]
  },
  {
   "cell_type": "code",
   "execution_count": null,
   "metadata": {},
   "outputs": [],
   "source": [
    "# my_array est un array à 1 dimension (vecteur) de 3 éléments\n",
    "print(my_array.shape)"
   ]
  },
  {
   "cell_type": "markdown",
   "metadata": {},
   "source": [
    "Comme pour les listes, nous pouvons sélectionner les éléments d'un array en utilisant les crochets. Tout se passe comme pour les listes:"
   ]
  },
  {
   "cell_type": "code",
   "execution_count": null,
   "metadata": {},
   "outputs": [],
   "source": [
    "print(my_array[2])"
   ]
  },
  {
   "cell_type": "code",
   "execution_count": null,
   "metadata": {},
   "outputs": [],
   "source": [
    "test_selection = np.array([1, 2, 3, 4.5, 7.8, 9, 9.2, 9, 2, 3, 3.5])\n",
    "print(test_selection[-2])\n",
    "print(test_selection[2:6])\n",
    "print(test_selection[1: 8: 2])"
   ]
  },
  {
   "cell_type": "markdown",
   "metadata": {},
   "source": [
    "Les éléments uniques d'un array peuvent se sélectionner avec la fonction <b>np.unique()</b>"
   ]
  },
  {
   "cell_type": "code",
   "execution_count": null,
   "metadata": {},
   "outputs": [],
   "source": [
    "print(np.unique(test_selection))"
   ]
  },
  {
   "cell_type": "markdown",
   "metadata": {},
   "source": [
    "Contrairement aux listes python classiques, nous pouvons simplement utiliser des opérations mathématiques sur ces objets:  "
   ]
  },
  {
   "cell_type": "code",
   "execution_count": null,
   "metadata": {},
   "outputs": [],
   "source": [
    "# Cette fonction crée un array contenant 3 nombres aléatoires tirés de N(0, 1) \n",
    "my_array_2 = np.random.randn(3)\n",
    "print(my_array_2)\n",
    "\n",
    "print(str(my_array) + \" + \" + str(my_array_2) + \" = \" + str(my_array + my_array_2))"
   ]
  },
  {
   "cell_type": "code",
   "execution_count": null,
   "metadata": {},
   "outputs": [],
   "source": [
    "#On rappelle que les listes python ne permettent pas d'appliquer des opérations:\n",
    "testliste = [1, 2, 3]\n",
    "testliste2 = [4, 5, 6]\n",
    "\n",
    "print(testliste+testliste2)\n",
    "print(testliste * 2)"
   ]
  },
  {
   "cell_type": "markdown",
   "metadata": {},
   "source": [
    "Toutes les opérations mathématiques que nous avons vu avec les variables se généralisent donc à des vecteurs ou à des matrices de nombres: "
   ]
  },
  {
   "cell_type": "code",
   "execution_count": null,
   "metadata": {},
   "outputs": [],
   "source": [
    "print(my_array*2)\n",
    "print(my_array**2)\n",
    "print(my_array / my_array_2)"
   ]
  },
  {
   "cell_type": "markdown",
   "metadata": {},
   "source": [
    "Notons que ces opérations doivent avoir une signification mathématique pour qu'elles ne renvoient pas d'erreur: \n",
    "Il ne fait pas sens de sommer deux arrays de taille différente par exemple"
   ]
  },
  {
   "cell_type": "code",
   "execution_count": null,
   "metadata": {},
   "outputs": [],
   "source": [
    "my_array_3 = np.array([7,8,9,10])\n",
    "\n",
    "# Renvoie une erreur, l'addition de deux vecteurs de taille différente n'est pas définie mathématiquement\n",
    "print(my_array_3 + my_array)"
   ]
  },
  {
   "cell_type": "markdown",
   "metadata": {},
   "source": [
    "On peut convertir une liste en array et réciproquement facilement: "
   ]
  },
  {
   "cell_type": "code",
   "execution_count": null,
   "metadata": {},
   "outputs": [],
   "source": [
    "testliste3 = [1.5, 4.9, 7.8, 5.6]\n",
    "\n",
    "# On convertit la liste en array numpy en \"construisant\" un array avec la syntaxe np.array()\n",
    "equivalent_array = np.array(testliste3)\n",
    "\n",
    "# On peut retourner sous forme de liste à partir de l'array avec la fonction .tolist() et la syntaxe suivante: \n",
    "equivalent_list = equivalent_array.tolist()\n",
    "\n",
    "print(testliste3 == equivalent_list)"
   ]
  },
  {
   "cell_type": "markdown",
   "metadata": {},
   "source": [
    "De nombreuses fonctions mathématiques plus complexes sur les arrays sont aussi implémentées par la librairie:"
   ]
  },
  {
   "cell_type": "code",
   "execution_count": null,
   "metadata": {},
   "outputs": [],
   "source": [
    "#On crée un array de nombres consécutifs:\n",
    "\n",
    "nombres = np.arange(1, 15)\n",
    "print(nombres)\n"
   ]
  },
  {
   "cell_type": "code",
   "execution_count": null,
   "metadata": {},
   "outputs": [],
   "source": [
    "print(np.sum(nombres))"
   ]
  },
  {
   "cell_type": "code",
   "execution_count": null,
   "metadata": {},
   "outputs": [],
   "source": [
    "print(np.prod(nombres))"
   ]
  },
  {
   "cell_type": "code",
   "execution_count": null,
   "metadata": {},
   "outputs": [],
   "source": [
    "print(np.exp(nombres))"
   ]
  },
  {
   "cell_type": "code",
   "execution_count": null,
   "metadata": {},
   "outputs": [],
   "source": [
    "# Logarithme népérien (ln)\n",
    "print(np.log(nombres))"
   ]
  },
  {
   "cell_type": "code",
   "execution_count": null,
   "metadata": {},
   "outputs": [],
   "source": [
    "#Fonctions statistiques classiques:\n",
    "print(np.mean(nombres))\n",
    "print(np.std(nombres))\n",
    "\n",
    "# Donne le n-ème percentile (Attention valeur à indiquer en %)\n",
    "# On calcule donc la médiane comme cela:\n",
    "print(np.percentile(nombres, 50))"
   ]
  },
  {
   "cell_type": "markdown",
   "metadata": {},
   "source": [
    "### Note:\n",
    "Pour trouver/vérifier ce à quoi une fonction correspond (fonction numpy ou \"classique\" ou de n'importe quelle librairie), on peut utilser la fonction <b>help()</b>"
   ]
  },
  {
   "cell_type": "code",
   "execution_count": null,
   "metadata": {
    "scrolled": true
   },
   "outputs": [],
   "source": [
    "help(np.dot)"
   ]
  },
  {
   "cell_type": "code",
   "execution_count": null,
   "metadata": {},
   "outputs": [],
   "source": [
    "# Une autre fonction pour créer un array de N nombres espoacés uniformément entre 2 valeurs: \n",
    "# Les arguments sont (start, end, step)\n",
    "nombres2 = np.linspace(1, 5, 10)\n",
    "print(nombres2)\n",
    "print(nombres2.shape)"
   ]
  },
  {
   "cell_type": "markdown",
   "metadata": {},
   "source": [
    "### Exercice 1:\n",
    "\n",
    "1) Une application mobile possède une base de 100 utilisateurs. La croissance mensuelle des utilisateurs est de 5%. \n",
    "Coder une fonction donnant l'array/la liste du nombre d'utilisateurs par mois pendant N mois.\n"
   ]
  },
  {
   "cell_type": "code",
   "execution_count": null,
   "metadata": {},
   "outputs": [],
   "source": []
  },
  {
   "cell_type": "markdown",
   "metadata": {},
   "source": [
    "2) Généraliser la fonction pour pouvoir modifier le nombre d'utilisateur initial et le taux de croissance."
   ]
  },
  {
   "cell_type": "code",
   "execution_count": null,
   "metadata": {},
   "outputs": [],
   "source": []
  },
  {
   "cell_type": "markdown",
   "metadata": {},
   "source": [
    "3) Coder une fonction qui à partir des utilisateurs initiaux, d'un taux de croissance, et d'un nombre d'utilisateurs cible donne le nombre de mois à attendre pour atteindre ce nombre."
   ]
  },
  {
   "cell_type": "code",
   "execution_count": null,
   "metadata": {},
   "outputs": [],
   "source": []
  },
  {
   "cell_type": "markdown",
   "metadata": {},
   "source": [
    "Numpy peut travailler avec des arrays de plusieurs dimensions (comme des matrices):"
   ]
  },
  {
   "cell_type": "code",
   "execution_count": null,
   "metadata": {},
   "outputs": [],
   "source": [
    "# Une matrice est définie comme une liste de liste. Chaque liste est une ligne de la matrice\n",
    "matrix = np.array([[1,2,3], [4,5,6], [7,8,9], [10,11,12]])\n",
    "print(matrix)\n",
    "print(matrix.shape)"
   ]
  },
  {
   "cell_type": "code",
   "execution_count": null,
   "metadata": {},
   "outputs": [],
   "source": [
    "# Le produit scalaire est implémenté dans la fonction np.dot()\n",
    "print(np.dot(matrix, my_array))"
   ]
  },
  {
   "cell_type": "code",
   "execution_count": null,
   "metadata": {
    "scrolled": true
   },
   "outputs": [],
   "source": [
    "# On peut transposer la matrice avec la syntaxe .T\n",
    "print(matrix.T)"
   ]
  },
  {
   "cell_type": "markdown",
   "metadata": {},
   "source": [
    "Si leurs tailles sont compatibles, 2 arrays peuvent être comparés éléments par éléments:"
   ]
  },
  {
   "cell_type": "code",
   "execution_count": null,
   "metadata": {
    "scrolled": true
   },
   "outputs": [],
   "source": [
    "print(my_array)\n",
    "print(my_array_2)\n",
    "\n",
    "print(my_array < my_array_2 * 3)\n"
   ]
  },
  {
   "cell_type": "markdown",
   "metadata": {},
   "source": [
    "### Exercice 2:"
   ]
  },
  {
   "cell_type": "markdown",
   "metadata": {},
   "source": [
    "On donne ci-dessous une liste de nombres de connection par jour à un site internet pour 2 pays: "
   ]
  },
  {
   "cell_type": "code",
   "execution_count": null,
   "metadata": {},
   "outputs": [],
   "source": [
    "users_FR = [1673,1994,1923,1131,2538,3112,3469,2402,2287,2680,1527,2784,2121,3907,1826,1993,2393,1129,2727,2344,2425,1777,1540,1774,1462,2294,2256,3208,1656,1809,1572,1258,3322,2094,3128,1229,1502,1384,1298,2220,2186,2712,1520,1383,2308,1150,2435,1608,2693,1509,1652,1242,1137,2658,2954,2384,1474,2263,1362,1129,3143,1676,2735,1453,2315,1214,3322,7213,6363,4921,3180,3504,2709,2109,4409,4369,3096,2664,2729,2083,1737,2156,5306,2920,4166,1916,2069,1679,4557,3190,4775,3191,2386,2327,1654,3856,3799,3104,2140,1560,1436,1066,1776,2050,3775,1619,1907,1447,1120,2586,1919,3282,1578,1985,1409,1058,1925,2514,2740,1491,2466,1569,1158,1478,1854,1805,1671,1585,1439,1179,3003,3918,2883,1747,1754,2106,1370,2204,2847,2524,1762,1378,1335,1091,1772,3926,1997,1388,1195,1155,1041,1146,2745,2655,1373,1202,1996,1059,1417,2030,2170,1903,1275,1065,943,1734,3077,2458,1533,1632,1084,909,1127,2844,1569,1190,1894,1195,1228,1909,2736,2905,2119,1223,1045,1083,2518,2473,2030,1620,1489,1629,1072,3247,2274,2183,1612,1411,1410,1380,1763,1573,2862,1512,1466,1365,1218,2099,2931,2239,1635,1488,1504,1231,2118,2331,1985,1708,2032,1479,1262,2142,2703,2164,1858,1545,1463,1278,2104,2587,2218,1696,1467,1416,1224,2577,1693,2205,2163,1692,1383,1156,2908,1795,2095,1675,1336,1526,1100,2009,2257,2388,1485,2021,4053,2921,3766,3917,3461,2925,3018,2396,1743,3888,2648,3413,3097,3154,2273,1727,2949,3272,3160,2087,2136,1728,1491,1868,1947,2153,1902,1690,2398,1823,1865]\n",
    "users_IT = [1642,2044,1759,1099,2521,2069,1899,1550,1966,1473,932,1952,1705,1708,1900,1862,1750,1165,2482,2119,1637,1869,1313,1526,1392,1939,1974,1749,1634,2046,1253,1105,2104,2003,1606,984,1625,1170,1005,1726,1763,1419,2171,1438,1769,802,2027,1631,1579,1730,1780,1557,1039,2327,2078,1839,1854,1827,1503,1065,2305,1828,1754,1601,1671,679,584,2060,1689,1806,1731,1393,1478,1152,2136,1799,1897,2034,2126,1664,1159,1682,2740,1784,2303,1738,1588,1141,2076,2157,2470,1808,2225,1640,1352,2485,2184,1984,1587,1735,1201,1027,2080,1909,1750,1702,1833,1345,1056,2056,1867,1514,1398,1840,1696,1121,1930,1818,1979,2098,1846,1665,1190,1614,2300,2172,2224,2074,1997,1393,2522,2279,2064,1991,1873,1810,1315,2380,2419,1768,1994,1666,1458,1177,2327,2087,2032,1612,1490,1501,1361,1451,2615,1783,1713,2306,1606,1226,2399,1981,1946,1768,1993,1574,1156,2394,2052,1770,1423,1641,1478,1164,1462,2216,1925,1367,1335,1062,1239,1595,1686,1499,1393,1102,1798,1143,1510,1968,1639,1382,1445,1205,970,2012,1812,1453,1421,1285,1190,1045,1345,1757,1763,1380,1393,1257,1091,2372,2266,1812,1655,1513,1427,1211,2466,1979,1721,1737,1583,1480,1185,2337,1679,1802,1559,1525,1337,1134,2188,2173,2187,2015,1963,1601,1288,2263,2064,1863,1704,1475,1270,1102,1510,1938,2106,1641,1402,1511,1073,2224,2019,1823,1747,1616,1609,1149,2116,1694,1804,1763,1747,1389,1093,2181,1600,1767,1751,1642,1355,1060,1890,1669,1934,1463,1540,1531,1085,1366,1315,1289,1310,1189,1636,1621,1653]"
   ]
  },
  {
   "cell_type": "markdown",
   "metadata": {},
   "source": [
    "Calculez par pays: \n",
    "- La moyenne, la médiane, le premier et dernier quartile\n",
    "- Le nombre de jours ou il y a eu plus de visites en Italie qu'en France\n",
    "- La moyenne par jour de la semaine (le premier jour de la liste est un jeudi)"
   ]
  },
  {
   "cell_type": "code",
   "execution_count": null,
   "metadata": {},
   "outputs": [],
   "source": []
  },
  {
   "cell_type": "markdown",
   "metadata": {},
   "source": [
    "## Pandas\n",
    "\n",
    "La librairie pandas en python est la référence en matière d'analyse de données. Elle permet en particulier de récupérer des données venant de tableaux (csv, xls, xlsx, etc.), de les stocker sous forme de 'DataFrame' et de traiter ses dataframe pour filtrer, nettoyer, corriger, etc.\n",
    "\n",
    "Un DataFrame est un tableau à deux dimensions composés de lignes et de colonnes. Chaque colonne est une series de données organisées selon un index commun. "
   ]
  },
  {
   "cell_type": "code",
   "execution_count": null,
   "metadata": {},
   "outputs": [],
   "source": [
    "# Tout d'abord on importe la librairie\n",
    "import pandas as pd"
   ]
  },
  {
   "cell_type": "markdown",
   "metadata": {},
   "source": [
    "### Chargement des données\n",
    "\n",
    "Pandas regroupe de nombreuses fonctions de lecture pour s'adapter aux différents formats de stockage des données. \n",
    "Ces données sont stockées dans un tableau qui sera indexé, soit par des entiers (par défaut), soit par d'autres valeurs uniques (un identifiant, un nom, etc.)"
   ]
  },
  {
   "cell_type": "code",
   "execution_count": null,
   "metadata": {},
   "outputs": [],
   "source": [
    "data_prenoms = pd.read_excel('prenoms.xlsx', sep = ',')"
   ]
  },
  {
   "cell_type": "markdown",
   "metadata": {},
   "source": [
    "La fonction display permet d'afficher les tableaux"
   ]
  },
  {
   "cell_type": "code",
   "execution_count": null,
   "metadata": {},
   "outputs": [],
   "source": [
    "display(data_prenoms)"
   ]
  },
  {
   "cell_type": "markdown",
   "metadata": {},
   "source": [
    "### Analyses basiques\n",
    "\n",
    "Pandas regroupe de nombreuses méthodes qui permettent d'avoir un aperçu rapide d'un data frame.\n",
    "\n",
    "\n",
    "La première info() donne les noms des colonnes, leur type et le nombre de valeurs non null"
   ]
  },
  {
   "cell_type": "code",
   "execution_count": null,
   "metadata": {},
   "outputs": [],
   "source": [
    "display(data_prenoms.info())"
   ]
  },
  {
   "cell_type": "markdown",
   "metadata": {},
   "source": [
    "La méthode head() affiche les premières lignes et tail() permet d'afficher les dernières lignes du tableau."
   ]
  },
  {
   "cell_type": "code",
   "execution_count": null,
   "metadata": {},
   "outputs": [],
   "source": [
    "display(data_prenoms.head(10))\n",
    "display(data_prenoms.tail(5))"
   ]
  },
  {
   "cell_type": "markdown",
   "metadata": {},
   "source": [
    "La méthode describe() affiche un résumé des statistiques principales sur les données numériques"
   ]
  },
  {
   "cell_type": "code",
   "execution_count": null,
   "metadata": {},
   "outputs": [],
   "source": [
    "data_prenoms.describe()"
   ]
  },
  {
   "cell_type": "markdown",
   "metadata": {},
   "source": [
    "Pour récupérer les dimensions d'un dataframe, on utilise l'attribut shape."
   ]
  },
  {
   "cell_type": "code",
   "execution_count": null,
   "metadata": {},
   "outputs": [],
   "source": [
    "print(data_prenoms.shape)\n",
    "print(\"Il y a\", data_prenoms.shape[0], \"lignes\")\n",
    "print(\"Il y a\", data_prenoms.shape[1], \"colonnes\")"
   ]
  },
  {
   "cell_type": "markdown",
   "metadata": {},
   "source": [
    "### Exercice 3\n",
    "\n",
    "1) Charger la base adults.csv dans un dataframe appelé data_adults (attention, cette base est contenue dans un fichier csv, il faut trouver la bonne fonction pour le charger !). Donner ses dimension.\n",
    "\n",
    "2) Afficher les 15 premières lignes de la table\n",
    "\n",
    "3) Afficher le résumé des colonnes\n",
    "\n",
    "4) Afficher les stats principales de la table"
   ]
  },
  {
   "cell_type": "code",
   "execution_count": null,
   "metadata": {},
   "outputs": [],
   "source": []
  },
  {
   "cell_type": "markdown",
   "metadata": {},
   "source": [
    "### Accès aux données\n",
    "\n",
    "Un dataframe est organisé en lignes et en colonnes. \n",
    "df.columns permet d'accéder à la liste de colonnes, df.index donne la liste d'index des lignes (par defaut les entiers de 0 à n-1)"
   ]
  },
  {
   "cell_type": "code",
   "execution_count": null,
   "metadata": {},
   "outputs": [],
   "source": [
    "print(data_prenoms.columns)"
   ]
  },
  {
   "cell_type": "code",
   "execution_count": null,
   "metadata": {},
   "outputs": [],
   "source": [
    "print(data_prenoms.index)"
   ]
  },
  {
   "cell_type": "markdown",
   "metadata": {},
   "source": [
    "Pour récupérer le contenu d'une colonne, il suffit de faire dataframe['nom_de_la_colonne'].\n",
    "On obtient un objet de type series, qui correspond à un tableau à une dimension utilisant le même index que le dataframe.\n",
    "\n",
    "Ces series se comportent comme des numpy array."
   ]
  },
  {
   "cell_type": "code",
   "execution_count": null,
   "metadata": {},
   "outputs": [],
   "source": [
    "# On récupère le tableau des heures travaillées par semaine\n",
    "hours = data_adults['hours-per-week']\n",
    "print(hours)"
   ]
  },
  {
   "cell_type": "code",
   "execution_count": null,
   "metadata": {},
   "outputs": [],
   "source": [
    "print(type(hours))"
   ]
  },
  {
   "cell_type": "markdown",
   "metadata": {},
   "source": [
    "On peut appliquer des fonctions sur ces series"
   ]
  },
  {
   "cell_type": "code",
   "execution_count": null,
   "metadata": {},
   "outputs": [],
   "source": [
    "average_hours = np.mean(hours)\n",
    "print(average_hours)\n",
    "\n",
    "max_hours = np.max(hours)\n",
    "print(max_hours)"
   ]
  },
  {
   "cell_type": "markdown",
   "metadata": {},
   "source": [
    "### Exercice 4\n",
    "\n",
    "1) Mettre dans un vecteur prenoms qui contient la colonne Prenom de data_prenoms\n",
    "\n",
    "2) créer un vecteur unique_prenoms qui contient les occurences uniques de ce vecteur prenoms\n",
    "\n",
    "3) Récupérer la longueur de liste prénoms et conclure sur le nombre de prénoms différents donnés à Paris ces 15 dernières années"
   ]
  },
  {
   "cell_type": "code",
   "execution_count": null,
   "metadata": {},
   "outputs": [],
   "source": []
  },
  {
   "cell_type": "markdown",
   "metadata": {},
   "source": [
    "Pour accéder aux valeurs sur une ligne, on peut utiliser l'attribut loc"
   ]
  },
  {
   "cell_type": "code",
   "execution_count": null,
   "metadata": {},
   "outputs": [],
   "source": [
    "# Ici on cherche à accéder au ième ligne du dataframe\n",
    "i = 12\n",
    "ligne = data_prenoms.loc[i]\n",
    "print(ligne)"
   ]
  },
  {
   "cell_type": "markdown",
   "metadata": {},
   "source": [
    "Pour avoir une valeur précise (ligne et colonne) on utilise la sytaxe df.loc[index, colonne]"
   ]
  },
  {
   "cell_type": "code",
   "execution_count": null,
   "metadata": {},
   "outputs": [],
   "source": [
    "print(data_prenoms.loc[i, 'Prenom'])"
   ]
  },
  {
   "cell_type": "markdown",
   "metadata": {},
   "source": [
    "On peut également passer plusieurs indices pour avoir plusieurs lignes"
   ]
  },
  {
   "cell_type": "code",
   "execution_count": null,
   "metadata": {},
   "outputs": [],
   "source": [
    "indices = [4, 117, 300]\n",
    "lignes = data_prenoms.loc[indices]\n",
    "display(lignes)"
   ]
  },
  {
   "cell_type": "markdown",
   "metadata": {},
   "source": [
    "Enfin, on peut isoler certaines colonnes si on le souhaite. On obtient alors un nouveau dataframe avec seulement les lignes et colonnes demandées"
   ]
  },
  {
   "cell_type": "code",
   "execution_count": null,
   "metadata": {},
   "outputs": [],
   "source": [
    "indices = [4, 117, 300]\n",
    "colonnes = ['Annee', 'Prenom']\n",
    "lignes = data_prenoms.loc[indices, colonnes]\n",
    "display(lignes)"
   ]
  },
  {
   "cell_type": "markdown",
   "metadata": {},
   "source": [
    "### Exercice 5\n",
    "\n",
    "1) générer un vecteur de 20 entiers aléatoires à valeur dans l'index de la table data_adults (voir fonction random.randint de numpy)\n",
    "\n",
    "2) Faire une boucle for pour itérer sur ces indices, et pour chacun récupérer l'age, le métier et la tranche de salaire, et afficher \"L'individu a X ans, fait le métier X et gagne X\""
   ]
  },
  {
   "cell_type": "code",
   "execution_count": null,
   "metadata": {},
   "outputs": [],
   "source": []
  },
  {
   "cell_type": "markdown",
   "metadata": {},
   "source": [
    "### Filtre sur les données\n",
    "\n",
    "La fonction loc permet donc de créer un nouveau dataframe en passant un vecteur d'indices. On peut généraliser cette logique pour appliquer des filtres au dataframe basé sur des conditions.\n",
    "\n",
    "Ce \"filtre\" va consister en un vecteur de booléens, un par ligne, qui vaut True si la condition est respectée, False sinon. Après, on applique ce filtre et seules les lignes correspondant à True sont conservées."
   ]
  },
  {
   "cell_type": "code",
   "execution_count": null,
   "metadata": {},
   "outputs": [],
   "source": [
    "# On crée un filtre basé sur une condition. \n",
    "# Par exemple ici on souhaite garder les prénoms donnés plus de 300 fois dans l'année\n",
    "\n",
    "filtre = data_prenoms['Nombre'] >= 300\n",
    "print(filtre)"
   ]
  },
  {
   "cell_type": "code",
   "execution_count": null,
   "metadata": {},
   "outputs": [],
   "source": [
    "# On applique ensuite ce filtre directement\n",
    "sub_data = data_prenoms[filtre]\n",
    "display(sub_data)"
   ]
  },
  {
   "cell_type": "code",
   "execution_count": null,
   "metadata": {},
   "outputs": [],
   "source": [
    "# Pour combiner plusieurs conditions, on peut utiliser la fonction de numpy logical_and\n",
    "filtre_and = np.logical_and(data_prenoms['Nombre'] >= 50, data_prenoms['Nombre'] <= 100)\n",
    "\n",
    "filtre_or = np.logical_or(data_prenoms['Annee'] == 2012, data_prenoms['Annee'] == 2016)"
   ]
  },
  {
   "cell_type": "code",
   "execution_count": null,
   "metadata": {},
   "outputs": [],
   "source": [
    "display(data_prenoms[filtre_and].info())\n",
    "\n",
    "display(data_prenoms[filtre_or].info())"
   ]
  },
  {
   "cell_type": "markdown",
   "metadata": {},
   "source": [
    "### Exercice 6\n",
    "Dans la base data_prenoms\n",
    "\n",
    "1) Créer un nouveau dataframe avec uniquement votre prénom (ou le prénom de votre choix) et l'afficher\n",
    "\n",
    "2) Récupérer la série du nombre de fois où le prénom a été donné par an, et afficher sa moyenne\n",
    "\n",
    "3) Créer un nouveau dataframe avec tous les prénoms donnés plus de 100 fois dans l'année 2014, afficher les premières lignes.\n",
    "\n",
    "4) Trouver la fonction pour trier ce dataframe selon la colonne Nombre, et donner le prénom le plus donné de l'année"
   ]
  },
  {
   "cell_type": "code",
   "execution_count": null,
   "metadata": {},
   "outputs": [],
   "source": []
  },
  {
   "cell_type": "markdown",
   "metadata": {},
   "source": [
    "### Exercice 7\n",
    "Dans la base data_adults\n",
    "\n",
    "1) Afficher la proportion de femmes dans la base de données, puis la proportion de femmes dans les revenus >50K\n",
    "\n",
    "2) Choisir un indice, récupérer la ligne correspondante dans un vecteur en ne gardant que son âge, son diplome, son nombre d'heures par semaine et son revenu\n",
    "\n",
    "3) Calculer l'âge moyen parmis les gens gagnant moins de 50k, puis parmis ceux qui gagnent plus de 50k"
   ]
  },
  {
   "cell_type": "code",
   "execution_count": null,
   "metadata": {},
   "outputs": [],
   "source": []
  }
 ],
 "metadata": {
  "kernelspec": {
   "display_name": "Python 3",
   "language": "python",
   "name": "python3"
  },
  "language_info": {
   "codemirror_mode": {
    "name": "ipython",
    "version": 3
   },
   "file_extension": ".py",
   "mimetype": "text/x-python",
   "name": "python",
   "nbconvert_exporter": "python",
   "pygments_lexer": "ipython3",
   "version": "3.7.4"
  }
 },
 "nbformat": 4,
 "nbformat_minor": 2
}

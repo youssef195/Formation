{
 "cells": [
  {
   "cell_type": "markdown",
   "metadata": {},
   "source": [
    "# Cours 02/04 NEOMA: Bases de la programmation avec Python"
   ]
  },
  {
   "cell_type": "markdown",
   "metadata": {},
   "source": [
    "L'objectif de ce premier cours est de (re)voir les bases de programmation et de découvrir les concepts importants à connaître pour manipuler des données avec Python. \n",
    "\n",
    "PLAN:\n",
    "- Introduction générale à la programmation et spécificités de Python\n",
    "- Les concepts de base: Variables, Opérateurs, mots clés ...\n",
    "- Première structure de données: Les listes\n",
    "- Définir et utiliser des fonctions pour réaliser des actions\n",
    "- Rendre notre code \"autonome\": Les boucles et conditions\n"
   ]
  },
  {
   "cell_type": "markdown",
   "metadata": {},
   "source": [
    "## Introduction générale à la programmation et spécificités de Python"
   ]
  },
  {
   "attachments": {
    "top10languages.png": {
     "image/png": "[encoded data removed]"
    }
   },
   "cell_type": "markdown",
   "metadata": {},
   "source": [
    "<ins>Qu'est ce qu'un langage de programmation, à quoi ça sert ? </ins>\n",
    "\n",
    "Un langage de programmation est simplement un outil pour faire exécuter une tâche spécifique à un ordinateur.\n",
    "Historiquement, la programmation était la seule façon d'intéragir avec un ordinateur. Au fil des ans, d'autres outils plus facile d'accès ont été créé pour permettre de faire les mêmes tâches de façon plus intuitives: Les systèmes d'exploitation, les logiciels, ... Néanmoins, utiliser un langage de programmation permet de réaliser des tâches plus spécifiques de façon plus efficace. \n",
    "\n",
    "\n",
    "<ins>Quelles sont les spécificités de Python ? </ins>\n",
    "\n",
    "Python est un langage de programmation \"générique\", il n'est pas seulement réservé à la manipulation de données: Il peut être utilisé pour créer des sites web, concevoir des logiciels, ...\n",
    "C'est un premier point différentiant avec le langage R par exemple, spécialement conçu pour l'analyse statistique.\n",
    "Un des avantages de Python est la simplicité de sa syntaxe et son abstraction de certains concepts de programmation qui doivent être explicités dans d'autres langages (citons le Java, le C++, ...). \n",
    "Concretement, écrire du code en Python est assez rapide, c'est entre autre ce qui explique sa grande popularité dans les domaines de la programmation \"appliquée\" comme la Data Science, le Machine Learning, l'analyse de textes ...\n",
    "\n",
    "![top10languages.png](attachment:top10languages.png)\n",
    "\n",
    "\n",
    "<ins>Concretement à quoi ressemble du code Python ?</ins>\n",
    "\n",
    "Schématiquement, le langage Python permet de donner des \"ordres\" à l'ordinateur, en utilisant une combinaisons des éléments suivants: \n",
    "\n",
    "- Des mots clés spécifiques au langage.\n",
    "- Des variables pour stocker une ou plusieurs informations.\n",
    "- Des opérateurs et des fonctions que l'on applique sur les variables pour obtenir le résultat souhaité.\n",
    "\n",
    "<ins>Comment utiliser le notebook Jupyter pour écrire et exécuter du code Python</ins>\n",
    "Jupyter est un outil pratique pour apprendre à coder en Python et faire des analyses de données. \n",
    "Le notebook est constitué de cellules, qui peuvent contenir du code, du texte explicatif, des images ... \n",
    "\n",
    "Pour exécuter une cellule, on appuie sur Maj + Enter.\n",
    "Pour insérer une cellule vierge en dessous de celle sélectionnée, on appuie sur Esc + b\n",
    "\n",
    "<b>Important ! </b>\n",
    "Même si les cellules permettent de délimiter notre code, Jupyter garde en mémoire les variables et les valeurs des cellules executées auparavant. Il est donc nécessaire d'écrire et exécuter son code séquentiellement pour ne pas avoir d'erreur\n",
    "\n",
    "\n"
   ]
  },
  {
   "cell_type": "code",
   "execution_count": 1,
   "metadata": {
    "scrolled": true
   },
   "outputs": [
    {
     "name": "stdout",
     "output_type": "stream",
     "text": [
      "Bonjour, je suis étudiant(e) à l'école Neoma\n"
     ]
    }
   ],
   "source": [
    "# Voici un premier exemple de code Python\n",
    "ecole = \"Neoma\"\n",
    "print(\"Bonjour, je suis étudiant(e) à l'école \" + ecole)"
   ]
  },
  {
   "cell_type": "markdown",
   "metadata": {},
   "source": [
    "Dans l'exemple ci dessus:\n",
    "- On définit une première variable appelée \"ecole\". On lui donne (assigne) la valeur \"Neoma\"\n",
    "- La seconde ligne utilise la fonction \"print\" (présente par défault dans le langage Python) pour afficher le message \"Bonjour, je suis étudiant(e) à l'école ... \", en ajoutant à la fin la valeur de la variable \"ecole\". \n",
    "\n",
    "Ainsi, nous obtenons le message complet affiché en dessous de la cellule. \n",
    "On remarque que la première ligne écrite commence par un \"#\" et contient du texte libre: C'est un commentaire et cette ligne n'est pas \"lue\" par le système: Elle permet juste d'annoter son code, pour par exemple expliquer ce qu'il fait."
   ]
  },
  {
   "cell_type": "code",
   "execution_count": 2,
   "metadata": {},
   "outputs": [
    {
     "name": "stdout",
     "output_type": "stream",
     "text": [
      "Neoma\n"
     ]
    }
   ],
   "source": [
    "# On remarque qu'on peut réutiliser la valeur d'une variable même si elle est créée dans une cellule précédente:\n",
    "print(ecole)"
   ]
  },
  {
   "cell_type": "markdown",
   "metadata": {},
   "source": [
    "On remarque aussi que le langage utilise différentes couleurs pour bien différencier les différents types d'\"objets\" que l'on manipule: \n",
    "\n",
    "- Les commentaires sont en bleu\n",
    "- Les symboles +/= et globalement les différents opérateurs sont en mauve\n",
    "- Les fonctions et mots clés du langage sont en vert \n",
    "- Le texte utilisé dans le code est en rouge \n",
    "..."
   ]
  },
  {
   "cell_type": "markdown",
   "metadata": {},
   "source": [
    "## Déclarer des variables de tout type"
   ]
  },
  {
   "cell_type": "markdown",
   "metadata": {},
   "source": [
    "Comme dans la plupart des langages de programmation, nous pouvons manipuler en Python des variables de différents types:\n",
    "\n",
    "- Des chaînes de caractères (string ou str) comme dans l'exemple ci dessus\n",
    "- Des nombres entiers (integer ou int)\n",
    "- Des nombres flotants (float)\n",
    "- Des booléens = Vrai ou Faux (bool)\n",
    "\n",
    "En Python, il n'est pas nécessaire d'expliciter le type d'une variable. Python le \"comprend\" tout seul grâce à la valeur qu'on lui donne. Les exemples en dessous définissent différentes variables dans les 4 principaux types:\n",
    "\n",
    "On peut afficher le type d'une variable grâce à la fonction type()\n",
    "\n",
    "On peut donner à une variable globalement le nom que l'on souhaite sans espace, à l'exclusion des mots clés du langage (par exemple, on ne peut pas appeler une variable \"print\"). Par convention, on les écrit en minuscule, avec des \"_\" pour séparer les mots si besoin"
   ]
  },
  {
   "cell_type": "code",
   "execution_count": 3,
   "metadata": {},
   "outputs": [
    {
     "data": {
      "text/plain": [
       "str"
      ]
     },
     "execution_count": 3,
     "metadata": {},
     "output_type": "execute_result"
    }
   ],
   "source": [
    "# Une variable de type String s'écrit entre guillemets (simples ou doubles) \n",
    "film = \"Vice Versa\"\n",
    "type(film)"
   ]
  },
  {
   "cell_type": "code",
   "execution_count": 4,
   "metadata": {},
   "outputs": [
    {
     "data": {
      "text/plain": [
       "int"
      ]
     },
     "execution_count": 4,
     "metadata": {},
     "output_type": "execute_result"
    }
   ],
   "source": [
    "# Entier\n",
    "duree_minutes = 102\n",
    "type(duree_minutes)"
   ]
  },
  {
   "cell_type": "code",
   "execution_count": 5,
   "metadata": {},
   "outputs": [
    {
     "data": {
      "text/plain": [
       "bool"
      ]
     },
     "execution_count": 5,
     "metadata": {},
     "output_type": "execute_result"
    }
   ],
   "source": [
    "# Bool\n",
    "pour_enfants = True\n",
    "type(pour_enfants)"
   ]
  },
  {
   "cell_type": "code",
   "execution_count": 6,
   "metadata": {},
   "outputs": [
    {
     "data": {
      "text/plain": [
       "float"
      ]
     },
     "execution_count": 6,
     "metadata": {},
     "output_type": "execute_result"
    }
   ],
   "source": [
    "# Float\n",
    "note = 4.3\n",
    "type(note)"
   ]
  },
  {
   "cell_type": "markdown",
   "metadata": {},
   "source": [
    "## Opérateurs"
   ]
  },
  {
   "cell_type": "markdown",
   "metadata": {},
   "source": [
    "Les opérateurs sont utilisés en Python pour manipuler les variables que l'on déclare. \n",
    "Les opérateurs mathématiques usuels +, -, *, /, ** (puissance), % (modulo) sont utilisables sur les types int et float avec leur signification normale.\n",
    "\n",
    "Des opérateurs de comparaison existent pour comparer plusieurs variables:\n",
    "- == pour l'égalité (à ne pas confondre avec = , qui sert à assigner une valeur à une variable)\n",
    "- != inégalité\n",
    "- <, <=, >, >= ..."
   ]
  },
  {
   "cell_type": "code",
   "execution_count": 7,
   "metadata": {},
   "outputs": [
    {
     "name": "stdout",
     "output_type": "stream",
     "text": [
      "False\n"
     ]
    }
   ],
   "source": [
    "print(3 == 4)"
   ]
  },
  {
   "cell_type": "code",
   "execution_count": 8,
   "metadata": {},
   "outputs": [
    {
     "name": "stdout",
     "output_type": "stream",
     "text": [
      "7.916666666666667\n"
     ]
    }
   ],
   "source": [
    "print(95/12)"
   ]
  },
  {
   "cell_type": "code",
   "execution_count": 9,
   "metadata": {},
   "outputs": [
    {
     "name": "stdout",
     "output_type": "stream",
     "text": [
      "True\n"
     ]
    }
   ],
   "source": [
    "print(4*5 > 12)"
   ]
  },
  {
   "cell_type": "code",
   "execution_count": 10,
   "metadata": {},
   "outputs": [
    {
     "name": "stdout",
     "output_type": "stream",
     "text": [
      "9\n"
     ]
    }
   ],
   "source": [
    "print( 3 ** 2)"
   ]
  },
  {
   "cell_type": "code",
   "execution_count": 11,
   "metadata": {},
   "outputs": [
    {
     "name": "stdout",
     "output_type": "stream",
     "text": [
      "True\n"
     ]
    }
   ],
   "source": [
    "print(\"Python\" != \"R\")"
   ]
  },
  {
   "cell_type": "markdown",
   "metadata": {},
   "source": [
    "Ces opérations \"mathématiques\" ne peuvent pas être définies pour les variables de type string. \n",
    "\n",
    "Les opérateurs + et * existent, mais correspondent à une concaténation:"
   ]
  },
  {
   "cell_type": "code",
   "execution_count": 12,
   "metadata": {},
   "outputs": [
    {
     "name": "stdout",
     "output_type": "stream",
     "text": [
      "Samedi 4 avril 2022\n"
     ]
    }
   ],
   "source": [
    "jour = \"Samedi 4 avril\"\n",
    "année = \" 2022\"\n",
    "date = jour + année\n",
    "print(date)"
   ]
  },
  {
   "cell_type": "code",
   "execution_count": 13,
   "metadata": {
    "scrolled": false
   },
   "outputs": [
    {
     "name": "stdout",
     "output_type": "stream",
     "text": [
      "hahaha\n"
     ]
    }
   ],
   "source": [
    "rire = \"ha\"\n",
    "rire_3_fois = rire*3\n",
    "\n",
    "print(rire_3_fois)"
   ]
  },
  {
   "cell_type": "markdown",
   "metadata": {},
   "source": [
    "De la même façon, les opérateurs + - * / ... n'ont pas vraiment de sens pour les variables booléennes. \n",
    "Pour les manipuler, nous utilisons les opérateurs logiques: and, or, not ..."
   ]
  },
  {
   "cell_type": "code",
   "execution_count": 14,
   "metadata": {},
   "outputs": [],
   "source": [
    "# On définit une variable booléenne appelée res1, dont la valeur correspond à la réponse à la question: \"Est ce que 4*3 vaut 12 ?\"\n",
    "res1 = (4*3 == 12)\n",
    "\n",
    "# On définit une variable booléeene appelée res2, dont la valeur correspond à la réponse à la question: \"Est ce que 10/5 vaut 3 ?\"\n",
    "res2 = (10 / 5 == 3)"
   ]
  },
  {
   "cell_type": "code",
   "execution_count": 15,
   "metadata": {},
   "outputs": [
    {
     "name": "stdout",
     "output_type": "stream",
     "text": [
      "False\n"
     ]
    }
   ],
   "source": [
    "print(res1 and res2)"
   ]
  },
  {
   "cell_type": "code",
   "execution_count": 16,
   "metadata": {
    "scrolled": true
   },
   "outputs": [
    {
     "name": "stdout",
     "output_type": "stream",
     "text": [
      "True\n"
     ]
    }
   ],
   "source": [
    "print(res1 or res2)"
   ]
  },
  {
   "cell_type": "markdown",
   "metadata": {},
   "source": [
    "##  Première structure de données: Les listes"
   ]
  },
  {
   "cell_type": "markdown",
   "metadata": {},
   "source": [
    "Les listes sont très utiles pour manipuler plusieurs variables en même temps.\n",
    "Pour définir une liste, on utilise les symboles [ ]"
   ]
  },
  {
   "cell_type": "code",
   "execution_count": 17,
   "metadata": {
    "scrolled": true
   },
   "outputs": [
    {
     "name": "stdout",
     "output_type": "stream",
     "text": [
      "['lundi', 'mardi', 'mercredi', 'jeudi', 'vendredi', 'samedi', 'dimanche']\n",
      "<class 'list'>\n"
     ]
    }
   ],
   "source": [
    "# On définit une liste contenant le nom des jours de la semaine\n",
    "jours = ['lundi', 'mardi', 'mercredi', 'jeudi', 'vendredi', 'samedi', 'dimanche']\n",
    "print(jours)\n",
    "print(type(jours))"
   ]
  },
  {
   "cell_type": "code",
   "execution_count": 18,
   "metadata": {
    "scrolled": true
   },
   "outputs": [
    {
     "name": "stdout",
     "output_type": "stream",
     "text": [
      "[4, 4.5, 'python', True]\n"
     ]
    }
   ],
   "source": [
    "# Les listes peuvent contenir des éléments de différents types:\n",
    "liste_mixte = [4, 4.5, \"python\", True]\n",
    "\n",
    "print(liste_mixte)"
   ]
  },
  {
   "cell_type": "markdown",
   "metadata": {},
   "source": [
    "Pour accéder à un élément à l'intérieur d'une liste, on le selectionne par son indice. \n",
    "\n",
    "<b> Attention: Le premier élément d'une liste possède l'indice 0 ! </b> "
   ]
  },
  {
   "cell_type": "code",
   "execution_count": 19,
   "metadata": {},
   "outputs": [
    {
     "name": "stdout",
     "output_type": "stream",
     "text": [
      "mercredi\n",
      "dimanche\n"
     ]
    }
   ],
   "source": [
    "print(jours[2])\n",
    "print(jours[6])"
   ]
  },
  {
   "cell_type": "code",
   "execution_count": 20,
   "metadata": {
    "scrolled": true
   },
   "outputs": [
    {
     "name": "stdout",
     "output_type": "stream",
     "text": [
      "Le 4eme jour de la semaine est le jeudi\n"
     ]
    }
   ],
   "source": [
    "index = 3\n",
    "print( \"Le \" + str(index + 1) + \"eme jour de la semaine est le \" + jours[index])"
   ]
  },
  {
   "cell_type": "markdown",
   "metadata": {},
   "source": [
    "On peut aussi sélectionner un élément à partir de la fin en utilisant un indice négatif:\n",
    "\n",
    "<b> Attention 2: Le dernier élément d'une liste possède l'indice -1 ! </b> \n",
    "L'avant dernier possède l'indice -2 ..."
   ]
  },
  {
   "cell_type": "code",
   "execution_count": 21,
   "metadata": {},
   "outputs": [
    {
     "name": "stdout",
     "output_type": "stream",
     "text": [
      "Le dernier jour de la semaine est le dimanche\n",
      "L'avant dernier jour de la semaine est le samedi\n"
     ]
    }
   ],
   "source": [
    "index = -1\n",
    "print( \"Le dernier jour de la semaine est le \" + jours[index])\n",
    "avant_dernier_jour = index - 1\n",
    "print(\"L'avant dernier jour de la semaine est le \" + jours[avant_dernier_jour])"
   ]
  },
  {
   "cell_type": "markdown",
   "metadata": {},
   "source": [
    "Comme pour les variables \"simples\", des opérateurs et des fonctions existent pour manipuler des listes: \n",
    "\n",
    "- len() donne la taille de la liste\n",
    "- '+' permet de concaténer des listes\n",
    "- '*' permet de \"copier\" la liste un certain nombre de fois \n",
    "\n",
    "Tout se passe comme pour les variables de type String: En effet, une variable string est simplement une liste de caractères"
   ]
  },
  {
   "cell_type": "code",
   "execution_count": 22,
   "metadata": {
    "scrolled": true
   },
   "outputs": [
    {
     "name": "stdout",
     "output_type": "stream",
     "text": [
      "[5, 20, 8, 17, 2, -1, 30]\n"
     ]
    }
   ],
   "source": [
    "partie1 = [5, 20, 8, 17]\n",
    "partie2 = [2, -1, 30]\n",
    "concat = partie1 + partie2\n",
    "print(concat)"
   ]
  },
  {
   "cell_type": "code",
   "execution_count": 23,
   "metadata": {
    "scrolled": true
   },
   "outputs": [
    {
     "name": "stdout",
     "output_type": "stream",
     "text": [
      "La 6 lettre du mot programmation est a\n",
      "Le mot programmation contient 13 lettres\n"
     ]
    }
   ],
   "source": [
    "mot = \"programmation\"\n",
    "\n",
    "indice = 5\n",
    "print(\"La \" + str(indice + 1) + \" lettre du mot \" + mot + \" est \" + mot[indice])\n",
    "\n",
    "longueur_mot = len(mot)\n",
    "print(\"Le mot \" + mot + \" contient \" + str(longueur_mot) + \" lettres\")"
   ]
  },
  {
   "cell_type": "markdown",
   "metadata": {},
   "source": [
    "## Exercice: \n",
    "\n",
    "Définir une liste contenant les nombres [1, 2, 3, 8] \n",
    "Définir une liste contenant les nombres [1.5, 8.3, 3.4]\n",
    "\n",
    "Créer une variable ayant pour valeur la somme du dernier élément de la première liste avec le deuxième élément de la seconde\n",
    "\n",
    "Afficher ce résultat avec la phrase \"Le résultat est ...\"\n"
   ]
  },
  {
   "cell_type": "code",
   "execution_count": 24,
   "metadata": {},
   "outputs": [
    {
     "ename": "SyntaxError",
     "evalue": "invalid syntax (<ipython-input-24-02033fcb2a3a>, line 2)",
     "output_type": "error",
     "traceback": [
      "\u001b[1;36m  File \u001b[1;32m\"<ipython-input-24-02033fcb2a3a>\"\u001b[1;36m, line \u001b[1;32m2\u001b[0m\n\u001b[1;33m    liste1 = #TODO\u001b[0m\n\u001b[1;37m                  ^\u001b[0m\n\u001b[1;31mSyntaxError\u001b[0m\u001b[1;31m:\u001b[0m invalid syntax\n"
     ]
    }
   ],
   "source": [
    "#On définit les deux listes\n",
    "liste1 = #TODO\n",
    "liste2 = #TODO\n",
    "\n",
    "#On définit la variable résultat\n",
    "res = #TODO\n",
    "\n",
    "#On affiche le résultat\n",
    "print()"
   ]
  },
  {
   "cell_type": "markdown",
   "metadata": {},
   "source": [
    "On peut isoler des sous-listes en utilisant une \"plage\" d'indices, en utilisant la syntaxe liste[indice_debut : indice_fin]\n",
    "\n",
    "Par convention: L'indice du début est inclu, et l'indice de fin est exclu."
   ]
  },
  {
   "cell_type": "code",
   "execution_count": null,
   "metadata": {
    "scrolled": true
   },
   "outputs": [],
   "source": [
    "indice_debut = 1\n",
    "indice_fin = 4\n",
    "print(jours[indice_debut:indice_fin])"
   ]
  },
  {
   "cell_type": "markdown",
   "metadata": {},
   "source": [
    "Il n'y a pas besoin de préciser d'indice si l'on souhaite commencer au début, ou s'arréter à la fin"
   ]
  },
  {
   "cell_type": "code",
   "execution_count": null,
   "metadata": {},
   "outputs": [],
   "source": [
    "# Tous les jours jusqu'à l'indice 4 exclu --> Renvoie les 4 premiers jours de la semaine, indicés de 0 à 3\n",
    "jours[:4]"
   ]
  },
  {
   "cell_type": "code",
   "execution_count": null,
   "metadata": {
    "scrolled": true
   },
   "outputs": [],
   "source": [
    "# Tous les jours à partir de l'élément d'indice 2 inclu.\n",
    "jours[2:]"
   ]
  },
  {
   "cell_type": "markdown",
   "metadata": {},
   "source": [
    "On peut aussi trouver l'indice d'un élément par sa valeur avec la fonction .index()"
   ]
  },
  {
   "cell_type": "code",
   "execution_count": null,
   "metadata": {},
   "outputs": [],
   "source": [
    "indice_vendredi = jours.index(\"vendredi\")\n",
    "print(indice_vendredi)\n",
    "print(jours[indice_vendredi])"
   ]
  },
  {
   "cell_type": "code",
   "execution_count": null,
   "metadata": {},
   "outputs": [],
   "source": [
    "#Attention, on obtient une erreur si l'on cherche la position d'un élément qui n'existe pas dans la liste\n",
    "jours.index(\"Monday\")"
   ]
  },
  {
   "cell_type": "markdown",
   "metadata": {},
   "source": [
    "Une liste n'est pas fixe, on peut modifier des éléments, en ajouter, en supprimer, ...\n",
    "\n",
    "\n",
    "- On remplace la valeur d'un élément d'une liste en le réassignant simplement\n",
    "\n",
    "- On ajoute un élément à la fin d'une liste avec la fonction .append()\n",
    "\n",
    "- On supprime un élément avec la fonction .pop()\n"
   ]
  },
  {
   "cell_type": "code",
   "execution_count": null,
   "metadata": {},
   "outputs": [],
   "source": [
    "entreprises = [\"Amazon\", \"Google\", \"Facebook\", \"Tesla\"]\n",
    "\n",
    "entreprises[2] = \"Meta\"\n",
    "\n",
    "print(entreprises)"
   ]
  },
  {
   "cell_type": "code",
   "execution_count": null,
   "metadata": {},
   "outputs": [],
   "source": [
    "# La liste est directement modifiée par la fonction append(). Pas besoin de créer une nouvelle variable\n",
    "entreprises.append(\"Coca-Cola\")\n",
    "entreprises.append(\"Apple\")\n",
    "entreprises.append(\"Samsung\")"
   ]
  },
  {
   "cell_type": "code",
   "execution_count": null,
   "metadata": {},
   "outputs": [],
   "source": [
    "print(entreprises)"
   ]
  },
  {
   "cell_type": "code",
   "execution_count": null,
   "metadata": {
    "scrolled": true
   },
   "outputs": [],
   "source": [
    "# On supprime un élément de la liste par la méthode .pop()\n",
    "entreprises.pop(1)\n",
    "print(entreprises)"
   ]
  },
  {
   "cell_type": "code",
   "execution_count": null,
   "metadata": {
    "scrolled": true
   },
   "outputs": [],
   "source": [
    "# On peut trier les éléments d'une liste (par ordre croissant/alphabétique) avec la fonction sorted()\n",
    "entreprises_sorted = sorted(entreprises)\n",
    "print(entreprises_sorted)\n",
    "\n",
    "# Attention, la fonction sorted() ne modifie pas la liste directement comme append() et pop()\n",
    "print(entreprises)"
   ]
  },
  {
   "cell_type": "markdown",
   "metadata": {},
   "source": [
    "## Exercice: \n",
    "\n",
    "A partir des listes ci dessous, créer une nouvelle liste contenant la longueur de chacune (fonction len() ): \n",
    "\n",
    "a = [1, 2, 3]\n",
    "\n",
    "b = [1, [2, 3]]\n",
    "\n",
    "c = []\n",
    "\n",
    "d = [1, 2, 3][1:]\n",
    "\n"
   ]
  },
  {
   "cell_type": "code",
   "execution_count": null,
   "metadata": {},
   "outputs": [],
   "source": [
    "#TODO"
   ]
  },
  {
   "cell_type": "markdown",
   "metadata": {},
   "source": [
    "## Exercice:\n",
    "\n",
    "A partir de la liste suivante:\n",
    "\n",
    "liste = [17, 38, 10, 25, 72]\n",
    "\n",
    "1) ajouter 12 à la liste\n",
    "\n",
    "2) Afficher le max et min de la liste\n",
    "\n",
    "3) Trouver l'indice du 17\n",
    "\n",
    "4) Enlever l'élément 38\n",
    "\n",
    "5) Afficher la sous-liste du 2ème au 3ème élément inclus\n",
    "\n",
    "6) Afficher la sous-liste du 2ème élément jusqu'à la fin\n",
    "\n",
    "7) Afficher le dernier élément de la liste\n",
    "\n",
    "8) trouver la fonction qui permet de renverser la liste dans l'autre sens"
   ]
  },
  {
   "cell_type": "code",
   "execution_count": null,
   "metadata": {},
   "outputs": [],
   "source": [
    "# TODO"
   ]
  },
  {
   "cell_type": "markdown",
   "metadata": {},
   "source": [
    "# Définir et utiliser des fonctions pour réaliser des actions"
   ]
  },
  {
   "cell_type": "markdown",
   "metadata": {},
   "source": [
    "Généralement quand on écrit du code, on est amené à vouloir réaliser la même action sur plusieurs variables.\n",
    "\n",
    "Un des grands principe à respecter en programmation est le \"DRY\" = \"Don't repeat yourself\". \n",
    "\n",
    "Les fonctions sont un outil pour encapsuler une partie de code, pour pouvoir le réutiliser à plusieurs endroits sans avoir à le réécrire. \n"
   ]
  },
  {
   "cell_type": "markdown",
   "metadata": {},
   "source": [
    "\n",
    "La syntaxe est la suivante. On commence par le mot clé **\"def\"** suivi du nom de la fonction qu'on veut créer. On termine par des parenthèses et **\":\"**\n",
    "On définit les entrées de la fonction dans les parenthèses. Il est possible que certaines fonctions n'aient pas d'entrée.\n",
    "On décrit ensuite ce que la fonction fait et on termine en indiquant ce qu'elle renvoie avec le mot clé **\"return\"**.\n",
    "\n",
    "```python\n",
    "def myFunction():\n",
    "    #écrire le corps de la fonction\n",
    "    return True\n",
    "```"
   ]
  },
  {
   "cell_type": "markdown",
   "metadata": {},
   "source": [
    "La fonction suivante affiche un texte changeant en fonction de l'entrée: "
   ]
  },
  {
   "cell_type": "code",
   "execution_count": null,
   "metadata": {},
   "outputs": [],
   "source": [
    "def dire_bonjour(prenom):\n",
    "    print(\"Bonjour \" + prenom)\n",
    "    return"
   ]
  },
  {
   "cell_type": "markdown",
   "metadata": {},
   "source": [
    "Une fois que la fonction a été définie, on peut l'appliquer sur les entrées de notre choix: "
   ]
  },
  {
   "cell_type": "code",
   "execution_count": null,
   "metadata": {},
   "outputs": [],
   "source": [
    "dire_bonjour(\"Thomas\")\n",
    "dire_bonjour(\"Alice\")\n",
    "dire_bonjour(\"Bob\")"
   ]
  },
  {
   "cell_type": "markdown",
   "metadata": {},
   "source": [
    "Pour que le langage comprenne correctement là où la fonction s'arrête, il est nécessaire d'indenter le corps de la fonction jusqu'au \"return\". Sinon, on aura une erreur (Python ne comprendra pas ou la fonction s'arrête)"
   ]
  },
  {
   "cell_type": "code",
   "execution_count": null,
   "metadata": {},
   "outputs": [],
   "source": [
    "def double_erreur(nombre):\n",
    "\n",
    "double_nombre = nombre * 2\n",
    "    return \n",
    "\n",
    "print(double_erreur(4))\n",
    "    "
   ]
  },
  {
   "cell_type": "code",
   "execution_count": null,
   "metadata": {},
   "outputs": [],
   "source": [
    "def double(nombre):\n",
    "    \n",
    "    double_nombre = nombre * 2\n",
    "    return double_nombre\n",
    "\n",
    "print(double(4))\n",
    "print(double(3) + double(5*2))\n",
    "    "
   ]
  },
  {
   "cell_type": "markdown",
   "metadata": {},
   "source": [
    "Les fonctions peuvent tout à fait prendre plusieurs entrées, et renvoyer plusieurs sorties:"
   ]
  },
  {
   "cell_type": "code",
   "execution_count": null,
   "metadata": {},
   "outputs": [],
   "source": [
    "def calcul_de_marge(ca, depenses):\n",
    "    \n",
    "    marge_absolue = ca - depenses\n",
    "    marge_pct = 100 * (ca - depenses)/ca\n",
    "    \n",
    "    return marge_absolue, marge_pct"
   ]
  },
  {
   "cell_type": "code",
   "execution_count": null,
   "metadata": {},
   "outputs": [],
   "source": [
    "chiffre_affaire = 250000\n",
    "couts = 135000\n",
    "\n",
    "marge1, marge2 = calcul_de_marge(chiffre_affaire, couts)\n",
    "\n",
    "print(marge1)\n",
    "print(\"La marge de l'entreprise est \" + str(marge2) + \"%\")"
   ]
  },
  {
   "cell_type": "markdown",
   "metadata": {},
   "source": [
    "### Exercice:\n",
    "\n",
    "Créer un fonction qui calcule l'aire d'un cercle en fonction de son rayon.\n"
   ]
  },
  {
   "cell_type": "code",
   "execution_count": null,
   "metadata": {},
   "outputs": [],
   "source": [
    "def aire_cercle():\n",
    "    \n",
    "    #TODO\n",
    "\n",
    "    return"
   ]
  },
  {
   "cell_type": "code",
   "execution_count": null,
   "metadata": {},
   "outputs": [],
   "source": []
  },
  {
   "cell_type": "markdown",
   "metadata": {},
   "source": [
    "# Structure de controle: la condition if /else"
   ]
  },
  {
   "cell_type": "markdown",
   "metadata": {},
   "source": [
    "La structure de contrôle if/else permet de tester une condition et éventuellement prendre des décisions différentes selon le résultat.\n",
    "On peut ajouter une boucle esle pour traiter le cas où la condition est fause:\n",
    "\n",
    "```python\n",
    "if condition:\n",
    "    faire quelque chose\n",
    "else :\n",
    "    faire autre chose\n",
    "```"
   ]
  },
  {
   "cell_type": "code",
   "execution_count": null,
   "metadata": {},
   "outputs": [],
   "source": [
    "nombre = 13\n",
    "if nombre % 2 == 0:\n",
    "    print(nombre, \"est pair\")\n",
    "else :\n",
    "    print(nombre, \"est impair\")"
   ]
  },
  {
   "cell_type": "markdown",
   "metadata": {
    "scrolled": true
   },
   "source": [
    "On peut tester plusieurs conditions avec des boucles \"else if\" notées elif\n",
    "\n",
    "```python\n",
    "if condition1:\n",
    "    action1\n",
    "elif condition2:\n",
    "    action2\n",
    "elif condition3:\n",
    "    action3\n",
    "```"
   ]
  },
  {
   "cell_type": "code",
   "execution_count": null,
   "metadata": {},
   "outputs": [],
   "source": [
    "nombre = 0\n",
    "\n",
    "if nombre <0:\n",
    "    print(nombre, \"est strictement négatif\")\n",
    "elif nombre >0:\n",
    "    print(nombre, \"est strictement positif\")\n",
    "else :\n",
    "    print(nombre, \"est nul\")"
   ]
  },
  {
   "cell_type": "markdown",
   "metadata": {},
   "source": [
    "## Exercice\n",
    "\n",
    "On vous donne une boïte de donuts avec une quantité entière enregistrée dans la variable <i>count</i>.\n",
    "Afficher:\n",
    "    - \"Il y a n donuts\" s'il y en a moins de 10 compris\n",
    "    - \"Il y a beaucoup de donuts !\" s'il y en a plus que 10"
   ]
  },
  {
   "cell_type": "code",
   "execution_count": 1,
   "metadata": {},
   "outputs": [
    {
     "ename": "SyntaxError",
     "evalue": "invalid syntax (<ipython-input-1-c1a1214020df>, line 2)",
     "output_type": "error",
     "traceback": [
      "\u001b[1;36m  File \u001b[1;32m\"<ipython-input-1-c1a1214020df>\"\u001b[1;36m, line \u001b[1;32m2\u001b[0m\n\u001b[1;33m    count =\u001b[0m\n\u001b[1;37m            ^\u001b[0m\n\u001b[1;31mSyntaxError\u001b[0m\u001b[1;31m:\u001b[0m invalid syntax\n"
     ]
    }
   ],
   "source": [
    "#TODO\n",
    "count = \n",
    "\n"
   ]
  },
  {
   "cell_type": "markdown",
   "metadata": {},
   "source": [
    "# Structures de contrôle: les boucles"
   ]
  },
  {
   "cell_type": "markdown",
   "metadata": {},
   "source": [
    "Les boucles sont une structure de contrôle fondamentale en programmation. Elles permettent de répéter des instructions plusieurs fois de manière automatique."
   ]
  },
  {
   "cell_type": "markdown",
   "metadata": {},
   "source": [
    "## La boucle for\n",
    "Une boucle for permet de répéter un bloc d’instructions un nombre de fois déterminé à l’avance.\n",
    "Elle suit la structure suivante:\n",
    "\n",
    "```python\n",
    "for i in range(n):\n",
    "    executer instructions\n",
    "```\n",
    "Attention aux indices ! ici i va varier de 0 à n-1"
   ]
  },
  {
   "cell_type": "code",
   "execution_count": null,
   "metadata": {},
   "outputs": [],
   "source": [
    "for i in range(10):\n",
    "    print(i)"
   ]
  },
  {
   "cell_type": "markdown",
   "metadata": {},
   "source": [
    "La boucle for permet aussi d'itérer sur les éléments d'une liste. Tous les éléments sont parcourus."
   ]
  },
  {
   "cell_type": "code",
   "execution_count": null,
   "metadata": {},
   "outputs": [],
   "source": [
    "jours = ['lundi', 'mardi', 'mercredi', 'jeudi', 'vendredi', 'samedi', 'dimanche']\n",
    "for j in jours:\n",
    "    n_lettres = len(j)\n",
    "    print(\"Dans\",j,\"il y a \", n_lettres, \"lettres\")"
   ]
  },
  {
   "cell_type": "markdown",
   "metadata": {},
   "source": [
    "## Exercice\n",
    "\n",
    "Ecrire une fonction qui calcule la somme des carrés des entiers de 1 à 10 compris."
   ]
  },
  {
   "cell_type": "code",
   "execution_count": 2,
   "metadata": {},
   "outputs": [],
   "source": [
    "#TODO"
   ]
  },
  {
   "cell_type": "markdown",
   "metadata": {},
   "source": [
    "## La boucle while\n",
    "\n",
    "Une boucle while permet de répéter un bloc d'instructions tant qu'une condition d'arrêt est respectée. Une fois qu'elle ne l'est plus, on sort de la boucle.\n",
    "\n",
    "\n",
    "Elle suit la structure suivante:\n",
    "\n",
    "```python\n",
    "while condition à respecter:\n",
    "    executer instructions\n",
    "```"
   ]
  },
  {
   "cell_type": "code",
   "execution_count": null,
   "metadata": {},
   "outputs": [],
   "source": [
    "# On cherche l'entier n tel que la somme des carrés de 1 à n est inférieur à 2000\n",
    "\n",
    "# Initialisation\n",
    "result = 0\n",
    "i = 0\n",
    "\n",
    "# Boucle\n",
    "while (result < 2000):\n",
    "    # On incrémente i\n",
    "    i +=1\n",
    "    # On incrémente le résultat\n",
    "    result += i*i\n",
    "print(\"L'entier n tel que la somme des carrés de 1 à n est inférieure à 200 est donc\", i-1)\n"
   ]
  },
  {
   "cell_type": "code",
   "execution_count": null,
   "metadata": {},
   "outputs": [],
   "source": []
  },
  {
   "cell_type": "code",
   "execution_count": null,
   "metadata": {},
   "outputs": [],
   "source": []
  }
 ],
 "metadata": {
  "kernelspec": {
   "display_name": "Python 3",
   "language": "python",
   "name": "python3"
  },
  "language_info": {
   "codemirror_mode": {
    "name": "ipython",
    "version": 3
   },
   "file_extension": ".py",
   "mimetype": "text/x-python",
   "name": "python",
   "nbconvert_exporter": "python",
   "pygments_lexer": "ipython3",
   "version": "3.8.5"
  }
 },
 "nbformat": 4,
 "nbformat_minor": 2
}

{
 "cells": [
  {
   "cell_type": "markdown",
   "metadata": {},
   "source": [
    "# Rattrapage python 2022"
   ]
  },
  {
   "cell_type": "raw",
   "metadata": {},
   "source": [
    "noms du binome: \n",
    "- \n",
    "- "
   ]
  },
  {
   "cell_type": "markdown",
   "metadata": {},
   "source": [
    "<u> Consignes </u>:  \n",
    "\n",
    "Tout d'abord, indiquez de manière claire (titre et dans la cellule ci dessus) le nom de votre binôme.\n",
    "\n",
    "1 point bonus sera dédié à la clarté du code et de vos commentaires. \n",
    "N'hésitez pas à créer des cellules de type \"Markdown\" supplémentaires ou des commentaires pour expliquer votre raisonnement.\n",
    "Merci de traiter une question par cellule, et d'indiquer en début de cellule la question traitée par un commentaire.\n",
    "\n",
    "Des graphiques peu lisibles ou sans légendes n'auront pas tous les points.\n",
    "\n",
    "Ce partiel est un travail de groupe à réaliser à 2. Il est attendu que **les travaux de deux groupes différents soient clairement différents** (et des points seront retirés dans le cas contraire).\n",
    "\n",
    "Toutes les questions peuvent être résolues avec les fonctions et méthodes vues en cours. Néanmoins, vous pouvez vous aider des documentations des librairies vues en cours ainsi que des sites classiques de questions/réponses de programmation (eg: Quora, Stackoverflow) pour vous débloquer sur un point particulier.\n",
    "\n",
    "\n",
    "#### MERCI DE VERIFIER QUE VOTRE CODE FONCTIONNE EN EXECUTANT LES CELLULES DE MANIERE SEQUENTIELLE (DE LA PREMIERE A LA DERNIERE). \n",
    "\n",
    "Vous pouvez faire \"Noyau -> Redémarrer & tout exécuter\" pour redémarrer et relancer tous les calculs dans le bon ordre. \n"
   ]
  },
  {
   "cell_type": "markdown",
   "metadata": {},
   "source": [
    "## Exercice 1 - 9 points\n",
    "\n",
    "On étudie ici la base de données de fréquentation des musées en France entre 2001 et 2020\n",
    "\n",
    "1) Lire la base de données et afficher les 15 premières lignes de la base (1pt)\n",
    "\n",
    "2) Trouver et indiquer dans une cellule de type texte ou Markdown les noms des colonnes ayant plus de la moitié de données manquantes (1pt)\n",
    "\n",
    "3) Supprimer les colonnes 'DATE APPELLATION', 'Note', 'ID MUSEOFILE' et 'Observations' (1pt)\n",
    "\n",
    "4) Supprimer les lignes ayant des données manquantes et vérifiez que vous obtenez 18406 lignes (1pt)\n",
    "\n",
    "5) Créer une base de données pour le \"Musée du Louvre\", et afficher la fréquentation totale au cours des dernières années dans un graphique de votre choix (2pt)\n",
    "\n",
    "6) Filtrer les données pour ne garder que l'année 2020 (0,5pt)\n",
    "\n",
    "7) Grouper les données par département (sur 2020) et afficher sur un bar plot le nombre total de visites des musées pour chaque département (2,5pt)\n"
   ]
  },
  {
   "cell_type": "code",
   "execution_count": null,
   "metadata": {},
   "outputs": [],
   "source": []
  },
  {
   "cell_type": "markdown",
   "metadata": {},
   "source": [
    "## Exercice 2 - 3pts \n",
    "\n",
    "Choisissez un graphique adéquat pour représenter ces données (10 premiers films au box office en 2021 en France). \n",
    "1 point est consacré à l'esthétique du graphique (taille, lisibilité, etc.) \n",
    "\n",
    "    Spider-Man : No Way Home - 7 319 651\n",
    "    Mourir peut attendre - 4 007 532\n",
    "    Encanto : La Fantastique Famille Madrigal - 3 202 352\n",
    "    Dune - 3 165 270\n",
    "    Tous en scène 2 - 2 673 215\n",
    "    Kaamelott : Premier Volet - 2 652 338\n",
    "    Les Tuche 4 - 2 436 419\n",
    "    BAC Nord - 2 218 308\n",
    "    Fast and Furious 9 - 2 025 112\n",
    "    Conjuring : Sous l'emprise du Diable - 1 887 284\n"
   ]
  },
  {
   "cell_type": "code",
   "execution_count": null,
   "metadata": {},
   "outputs": [],
   "source": []
  },
  {
   "cell_type": "markdown",
   "metadata": {},
   "source": [
    "## EXERCICE 3 - 8 points + 2 points bonus"
   ]
  },
  {
   "cell_type": "markdown",
   "metadata": {},
   "source": [
    "Voici une liste de maisons avec leur taille et leur prix à l'achat: \n",
    "\n",
    "tailles (en m^2) = [209.8, 164. ,  14.3, 196.9, 211.8, 248.4, 195.5, 245.2, 141.6,\n",
    "        94.6,  62.6, 111.9, 156.1, 212.9, 108.4, 182.5, 158.4, 204.6,\n",
    "       107.3, 100.8, 102.5, 222. , 107.3, 194.6, 120.5, 148.4, 106. ,\n",
    "       196.4, 157.8,  62.9, 150.7, 136. ,  93.3, 169. , 245.2, 150.2,\n",
    "       142.7, 141.5, 176.8, 153.1, 210. , 153.6, 179.5,  51.9, 174.5,\n",
    "       184.8, 170.8, 126.7, 113.6, 204. ]\n",
    "       \n",
    "\n",
    "prix (en milliers d'euros) = [629.94, 498.72,  67.33, 607.67, 597.19, 778.66, 636.29, 781.71,\n",
    "       441.71, 334.83, 175.48, 350.54, 460.37, 620.38, 318.3 , 560.4 ,\n",
    "       471.03, 619.64, 392.21, 320.57, 339.65, 710.07, 339.16, 613.01,\n",
    "       382.87, 527.17, 420.31, 625.73, 512.22, 202.51, 471.88, 483.01,\n",
    "       232.5 , 538.12, 801.04, 536.7 , 488.49, 462.69, 590.46, 546.34,\n",
    "       641.67, 453.4 , 540.86, 223.62, 567.37, 622.73, 549.31, 416.54,\n",
    "       348.52, 676.22]\n",
    "\n",
    "\n",
    "### QUESTIONS\n",
    "\n",
    "1) Créez un dataframe contenant ces informations dans 2 colonnes (1 point)\n",
    "\n",
    "2) Affichez un nuage de point avec la taille en abscisse et le prix en ordonnée. (1.5 points)\n",
    "  Ajoutez tous les attributs graphiques qui vous semblent pertinents ou nécessaires \n",
    "  \n",
    "3) D'après le graphique précédent, nous voyons une corrélation évidente entre la taille et le prix, qui peut être modélisée par le modèle de régression suivant : \n",
    "\n",
    "### prix = 3 * taille + 20\n",
    "\n",
    "a) Ecrivez une fonction prenant en entrée une taille en m^2 et renvoyant son prix selon le modèle (2 points)\n",
    "\n",
    "b) Créez une colonne dans le dataframe de la question 1 avec le prix estimé pour chaque maison ( 1 point)\n",
    "\n",
    "c) Créez une colonne dans le dataframe de la question 1 valant l'erreur effectuée par le modèle ( c'est à dire la différence entre la prédiction du modèle et le vrai prix) (1 point)\n",
    "\n",
    "d) Affichez les valeurs d'erreur avec un histogramme. Ajoutez tous les attributs graphiques qui vous semblent pertinents ou nécessaires. (1.5 points)\n",
    "\n",
    "\n",
    "#### BONUS (2 points) : \n",
    "\n",
    "4) Reprenez votre code de la question 2) . Ajoutez au nuage de points la ligne de régression donnée par le modèle en pointillés rouges."
   ]
  },
  {
   "cell_type": "code",
   "execution_count": null,
   "metadata": {},
   "outputs": [],
   "source": []
  }
 ],
 "metadata": {
  "kernelspec": {
   "display_name": "Python 3 (ipykernel)",
   "language": "python",
   "name": "python3"
  },
  "language_info": {
   "codemirror_mode": {
    "name": "ipython",
    "version": 3
   },
   "file_extension": ".py",
   "mimetype": "text/x-python",
   "name": "python",
   "nbconvert_exporter": "python",
   "pygments_lexer": "ipython3",
   "version": "3.8.13"
  }
 },
 "nbformat": 4,
 "nbformat_minor": 4
}